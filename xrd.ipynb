{
 "cells": [
  {
   "cell_type": "code",
   "execution_count": 1,
   "id": "65732006",
   "metadata": {},
   "outputs": [],
   "source": [
    "import requests\n",
    "from pymatgen.ext.matproj import MPRester\n",
    "from pymatgen.io.cif import CifWriter\n",
    "from pymatgen.analysis.diffraction.xrd import XRDCalculator\n",
    "import matplotlib.pyplot as plt"
   ]
  },
  {
   "cell_type": "code",
   "execution_count": 6,
   "id": "1c84a07f",
   "metadata": {},
   "outputs": [
    {
     "data": {
      "application/vnd.jupyter.widget-view+json": {
       "model_id": "f82f490543e3454ca712b73371625eff",
       "version_major": 2,
       "version_minor": 0
      },
      "text/plain": [
       "Retrieving MaterialsDoc documents:   0%|          | 0/1 [00:00<?, ?it/s]"
      ]
     },
     "metadata": {},
     "output_type": "display_data"
    }
   ],
   "source": [
    "# Téléchargement du fichier CIF du matériau Cs2Se\n",
    "with MPRester(\"fuMQt6Cv541dxycfavlOQ02CsLxUQcOm\") as m:\n",
    "    structure = m.get_structure_by_material_id(\"mp-1011695\")\n",
    "    w = CifWriter(structure)\n",
    "    w.write_file(\"Cs2Se.cif\")"
   ]
  },
  {
   "cell_type": "code",
   "execution_count": 7,
   "id": "b42ca993",
   "metadata": {},
   "outputs": [],
   "source": [
    "# Calcul des pics de diffraction pour un rayonnement X incident Cu Kα de longueur d'onde λ=1.54060 Å\n",
    "xrd_calc = XRDCalculator(wavelength='CuKa', symprec=0.1)\n",
    "pattern = xrd_calc.get_pattern(structure)"
   ]
  },
  {
   "cell_type": "code",
   "execution_count": 8,
   "id": "3a6204d2",
   "metadata": {},
   "outputs": [
    {
     "name": "stdout",
     "output_type": "stream",
     "text": [
      "Pic 1  : 2θ = 18.187239577421675 Intensité = 12.768275739320407 %\n",
      "     Indices hkl associés : (1, 1, 1)\n",
      "Pic 2  : 2θ = 21.030618336025082 Intensité = 33.69023639410394 %\n",
      "     Indices hkl associés : (2, 0, 0)\n",
      "Pic 3  : 2θ = 29.913695558725358 Intensité = 100.0 %\n",
      "     Indices hkl associés : (2, 2, 0)\n"
     ]
    }
   ],
   "source": [
    "# Affichage des 3 premiers pics du diffractogramme\n",
    "for i in range(3):\n",
    "    print(\"Pic\", i+1, \" : 2θ =\", pattern.x[i], \"Intensité =\", pattern.y[i], \"%\")\n",
    "    hkl = pattern.hkls[i]\n",
    "    print(\"     Indices hkl associés :\", hkl[0][\"hkl\"])"
   ]
  },
  {
   "cell_type": "code",
   "execution_count": null,
   "id": "ccb78dc1",
   "metadata": {},
   "outputs": [],
   "source": [
    "# Plot du diffractogramme\n",
    "plt.figure(figsize=(8, 6))\n",
    "plt.plot(pattern.x, pattern.y, 'k')\n",
    "plt.xlabel(r\"2$\\theta$ (degrés)\")\n",
    "plt.ylabel(\"Intensité relative (%)\")\n",
    "plt.title(\"Diffractogramme du matériau Cs2Se\")\n",
    "plt.xlim(10, 80)\n",
    "plt.ylim(0, 100)\n",
    "plt.grid(True)\n",
    "plt.show()"
   ]
  },
  {
   "cell_type": "code",
   "execution_count": null,
   "id": "5f857934",
   "metadata": {},
   "outputs": [],
   "source": []
  }
 ],
 "metadata": {
  "kernelspec": {
   "display_name": "Python 3 (ipykernel)",
   "language": "python",
   "name": "python3"
  },
  "language_info": {
   "codemirror_mode": {
    "name": "ipython",
    "version": 3
   },
   "file_extension": ".py",
   "mimetype": "text/x-python",
   "name": "python",
   "nbconvert_exporter": "python",
   "pygments_lexer": "ipython3",
   "version": "3.9.13"
  }
 },
 "nbformat": 4,
 "nbformat_minor": 5
}
