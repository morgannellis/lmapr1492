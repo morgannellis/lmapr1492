{
 "cells": [
  {
   "cell_type": "code",
   "execution_count": 1,
   "id": "4e12d475",
   "metadata": {},
   "outputs": [
    {
     "data": {
      "application/vnd.jupyter.widget-view+json": {
       "model_id": "df9f50e1f8f846fc91d83e15b41968f5",
       "version_major": 2,
       "version_minor": 0
      },
      "text/plain": [
       "Retrieving MaterialsDoc documents:   0%|          | 0/1 [00:00<?, ?it/s]"
      ]
     },
     "metadata": {},
     "output_type": "display_data"
    },
    {
     "data": {
      "application/vnd.jupyter.widget-view+json": {
       "model_id": "4e2c948326b04342aa2df78cdc684ed8",
       "version_major": 2,
       "version_minor": 0
      },
      "text/plain": [
       "Retrieving ElectronicStructureDoc documents:   0%|          | 0/1 [00:00<?, ?it/s]"
      ]
     },
     "metadata": {},
     "output_type": "display_data"
    },
    {
     "data": {
      "application/vnd.jupyter.widget-view+json": {
       "model_id": "4ed75f458c8649c8ba4c49ea43645bae",
       "version_major": 2,
       "version_minor": 0
      },
      "text/plain": [
       "Retrieving ElectronicStructureDoc documents:   0%|          | 0/1 [00:00<?, ?it/s]"
      ]
     },
     "metadata": {},
     "output_type": "display_data"
    }
   ],
   "source": [
    "from pymatgen.ext.matproj import MPRester\n",
    "with MPRester(\"fuMQt6Cv541dxycfavlOQ02CsLxUQcOm\") as m:\n",
    "\n",
    "    # Structure for material id\n",
    "    structure = m.get_structure_by_material_id(\"mp-1011695\")\n",
    "\n",
    "    # Dos for material id\n",
    "    dos = m.get_dos_by_material_id(\"mp-1011695\")\n",
    "\n",
    "    # Bandstructure for material id\n",
    "    bandstructure = m.get_bandstructure_by_material_id(\"mp-1011695\")"
   ]
  },
  {
   "cell_type": "code",
   "execution_count": 2,
   "id": "258605c5",
   "metadata": {},
   "outputs": [
    {
     "data": {
      "application/vnd.jupyter.widget-view+json": {
       "model_id": "89ff04f03e2748868ca235960c728f6f",
       "version_major": 2,
       "version_minor": 0
      },
      "text/plain": [
       "Retrieving MaterialsDoc documents:   0%|          | 0/1 [00:00<?, ?it/s]"
      ]
     },
     "metadata": {},
     "output_type": "display_data"
    },
    {
     "name": "stdout",
     "output_type": "stream",
     "text": [
      "Vecteurs de base du réseau direct :\n",
      " [[-2.98894696e+00  5.17700656e+00 -3.00000000e-08]\n",
      " [-5.97789288e+00  1.00000000e-08  1.00000000e-08]\n",
      " [-2.98894696e+00  1.72566713e+00  4.87140169e+00]]\n",
      "\n",
      "Vecteurs de base du réseau réciproque :\n",
      " [[ 1.31105574e-09  1.21367150e+00 -4.29936420e-01]\n",
      " [-1.05107024e+00 -6.06835858e-01 -4.29937140e-01]\n",
      " [ 2.15763411e-09  8.71997552e-09  1.28981055e+00]]\n",
      "\n",
      "Type de maille : rhombohedral\n",
      "Système cristallin : trigonal\n",
      "\n",
      "Groupe ponctuel : -3m\n"
     ]
    }
   ],
   "source": [
    "from pymatgen.symmetry.analyzer import SpacegroupAnalyzer\n",
    "from pymatgen.analysis.diffraction import xrd\n",
    "from pymatgen.core.lattice import Lattice\n",
    "\n",
    "# Récupération de la structure\n",
    "with MPRester(\"fuMQt6Cv541dxycfavlOQ02CsLxUQcOm\") as m:\n",
    "    structure = m.get_structure_by_material_id(\"mp-1011695\")\n",
    "\n",
    "# Détermination des vecteurs de base des réseaux direct et réciproque\n",
    "direct_vectors = structure.lattice.matrix\n",
    "reciprocal_vectors = Lattice(direct_vectors).reciprocal_lattice.matrix\n",
    "\n",
    "print(\"Vecteurs de base du réseau direct :\\n\", direct_vectors)\n",
    "print(\"\\nVecteurs de base du réseau réciproque :\\n\", reciprocal_vectors)\n",
    "\n",
    "# Détermination du type de maille et du système cristallin\n",
    "analyzer = SpacegroupAnalyzer(structure)\n",
    "print(\"\\nType de maille :\", analyzer.get_lattice_type())\n",
    "print(\"Système cristallin :\", analyzer.get_crystal_system())\n",
    "\n",
    "# Détermination du groupe ponctuel\n",
    "print(\"\\nGroupe ponctuel :\", analyzer.get_point_group_symbol())"
   ]
  },
  {
   "cell_type": "code",
   "execution_count": null,
   "id": "61630388",
   "metadata": {},
   "outputs": [],
   "source": []
  }
 ],
 "metadata": {
  "kernelspec": {
   "display_name": "Python 3 (ipykernel)",
   "language": "python",
   "name": "python3"
  },
  "language_info": {
   "codemirror_mode": {
    "name": "ipython",
    "version": 3
   },
   "file_extension": ".py",
   "mimetype": "text/x-python",
   "name": "python",
   "nbconvert_exporter": "python",
   "pygments_lexer": "ipython3",
   "version": "3.9.13"
  }
 },
 "nbformat": 4,
 "nbformat_minor": 5
}
