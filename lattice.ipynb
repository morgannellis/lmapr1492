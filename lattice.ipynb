{
 "cells": [
  {
   "cell_type": "code",
   "execution_count": 3,
   "id": "4e12d475",
   "metadata": {},
   "outputs": [],
   "source": [
    "from pymatgen.ext.matproj import MPRester\n",
    "with MPRester(\"oZkH8kj10DOmI5dC\") as m:\n",
    "\n",
    "    # Structure for material id\n",
    "    structure = m.get_structure_by_material_id(\"mp-1011695\")\n",
    "\n",
    "    # Dos for material id\n",
    "    dos = m.get_dos_by_material_id(\"mp-1011695\")\n",
    "\n",
    "    # Bandstructure for material id\n",
    "    bandstructure = m.get_bandstructure_by_material_id(\"mp-1011695\")"
   ]
  },
  {
   "cell_type": "code",
   "execution_count": 5,
   "id": "258605c5",
   "metadata": {},
   "outputs": [
    {
     "name": "stdout",
     "output_type": "stream",
     "text": [
      "Vecteurs de base du réseau direct :\n",
      " [[0.       2.989238 2.989238]\n",
      " [2.989238 0.       2.989238]\n",
      " [2.989238 2.989238 0.      ]]\n",
      "\n",
      "Vecteurs de base du réseau réciproque :\n",
      " [[-1.05096772  1.05096772  1.05096772]\n",
      " [ 1.05096772 -1.05096772  1.05096772]\n",
      " [ 1.05096772  1.05096772 -1.05096772]]\n",
      "\n",
      "Type de maille : cubic\n",
      "Système cristallin : cubic\n",
      "\n",
      "Groupe ponctuel : -43m\n"
     ]
    }
   ],
   "source": [
    "from pymatgen.symmetry.analyzer import SpacegroupAnalyzer\n",
    "from pymatgen.analysis.diffraction import xrd\n",
    "from pymatgen.core.lattice import Lattice\n",
    "\n",
    "# Récupération de la structure\n",
    "with MPRester(\"oZkH8kj10DOmI5dC\") as m:\n",
    "    structure = m.get_structure_by_material_id(\"mp-1011695\")\n",
    "\n",
    "# Détermination des vecteurs de base des réseaux direct et réciproque\n",
    "direct_vectors = structure.lattice.matrix\n",
    "reciprocal_vectors = Lattice(direct_vectors).reciprocal_lattice.matrix\n",
    "\n",
    "print(\"Vecteurs de base du réseau direct :\\n\", direct_vectors)\n",
    "print(\"\\nVecteurs de base du réseau réciproque :\\n\", reciprocal_vectors)\n",
    "\n",
    "# Détermination du type de maille et du système cristallin\n",
    "analyzer = SpacegroupAnalyzer(structure)\n",
    "print(\"\\nType de maille :\", analyzer.get_lattice_type())\n",
    "print(\"Système cristallin :\", analyzer.get_crystal_system())\n",
    "\n",
    "# Détermination du groupe ponctuel\n",
    "print(\"\\nGroupe ponctuel :\", analyzer.get_point_group_symbol())"
   ]
  },
  {
   "cell_type": "code",
   "execution_count": null,
   "id": "61630388",
   "metadata": {},
   "outputs": [],
   "source": []
  }
 ],
 "metadata": {
  "kernelspec": {
   "display_name": "Python 3",
   "language": "python",
   "name": "python3"
  },
  "language_info": {
   "codemirror_mode": {
    "name": "ipython",
    "version": 3
   },
   "file_extension": ".py",
   "mimetype": "text/x-python",
   "name": "python",
   "nbconvert_exporter": "python",
   "pygments_lexer": "ipython3",
   "version": "3.6.8"
  }
 },
 "nbformat": 4,
 "nbformat_minor": 5
}
