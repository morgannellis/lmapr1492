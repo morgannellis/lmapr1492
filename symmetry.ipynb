{
 "cells": [
  {
   "cell_type": "code",
   "execution_count": 2,
   "id": "016030d9",
   "metadata": {},
   "outputs": [],
   "source": [
    "from pymatgen.ext.matproj import MPRester\n",
    "from pymatgen.symmetry.analyzer import SpacegroupAnalyzer\n",
    "from pymatgen.analysis.diffraction import xrd\n",
    "from pymatgen.core.lattice import Lattice\n",
    "from pymatgen import Structure\n",
    "from jupyter_jsmol.pymatgen import quick_view"
   ]
  },
  {
   "cell_type": "code",
   "execution_count": 3,
   "id": "1efaa5a2",
   "metadata": {},
   "outputs": [
    {
     "name": "stdout",
     "output_type": "stream",
     "text": [
      "Type de maille : cubic\n",
      "Système cristallin : cubic\n",
      "Groupe ponctuel : -43m\n",
      "Groupe d'espace : F-43m\n",
      "Full Formula (Li1 Zn1 As1)\n",
      "Reduced Formula: LiZnAs\n",
      "abc   :   4.227421   4.227421   4.227421\n",
      "angles:  60.000000  60.000000  60.000000\n",
      "Sites (3)\n",
      "  #  SP       a     b     c    magmom\n",
      "---  ----  ----  ----  ----  --------\n",
      "  0  Li    0.75  0.75  0.75         0\n",
      "  1  Zn    0.25  0.25  0.25        -0\n",
      "  2  As    0     0     0           -0\n"
     ]
    }
   ],
   "source": [
    "# Récupération de la structure\n",
    "with MPRester(\"oZkH8kj10DOmI5dC\") as m:\n",
    "    \n",
    "    structure = m.get_structure_by_material_id(\"mp-9124\")\n",
    "    \n",
    "    # Détermination du type de maille et du système cristallin\n",
    "    analyzer = SpacegroupAnalyzer(structure)\n",
    "    print(\"Type de maille :\", analyzer.get_lattice_type())\n",
    "    print(\"Système cristallin :\", analyzer.get_crystal_system())\n",
    "\n",
    "    # Détermination du groupe ponctuel\n",
    "    print(\"Groupe ponctuel :\", analyzer.get_point_group_symbol())\n",
    "\n",
    "    # Détermination du groupe ponctuel\n",
    "    print(\"Groupe d'espace :\", analyzer.get_space_group_symbol())\n",
    "    \n",
    "    symops = SpacegroupAnalyzer(structure).get_symmetry_operations()\n",
    "    \n",
    "    \n",
    "    print(structure)"
   ]
  },
  {
   "cell_type": "code",
   "execution_count": 4,
   "id": "3f661fcb",
   "metadata": {},
   "outputs": [
    {
     "data": {
      "application/vnd.jupyter.widget-view+json": {
       "model_id": "5d35c93695f748b2b69afc61a4355d2b",
       "version_major": 2,
       "version_minor": 0
      },
      "text/plain": [
       "JsmolView(layout=Layout(align_self='stretch', height='400px'))"
      ]
     },
     "metadata": {},
     "output_type": "display_data"
    }
   ],
   "source": [
    "view = quick_view(structure)\n",
    "display(view)"
   ]
  },
  {
   "cell_type": "code",
   "execution_count": 5,
   "id": "4eef79dc",
   "metadata": {},
   "outputs": [],
   "source": [
    "Li = [.75, .75, .75]\n",
    "Zn = [.25, .25, .25]\n",
    "As = [  0,   0,   0]\n",
    "\n",
    "#symops: id, name, atomno\n",
    "symmetries = [(7, 'C2 axis (y, x, z-x-y)', 2),(9, 'C3 axis (-x-y-z, x, z)', 1),(14, 'Mirror plane (y, x, z)', 3)]\n",
    "\n",
    "LiSym = [symops[sid].operate(Li) for sid, _, aid in symmetries if aid == 1][0]\n",
    "ZnSym = [symops[sid].operate(Zn) for sid, _, aid in symmetries if aid == 2][0]\n",
    "AsSym = [symops[sid].operate(As) for sid, _, aid in symmetries if aid == 3][0]"
   ]
  },
  {
   "cell_type": "code",
   "execution_count": null,
   "id": "ede54bd9",
   "metadata": {},
   "outputs": [],
   "source": []
  },
  {
   "cell_type": "code",
   "execution_count": 6,
   "id": "5593ad6c",
   "metadata": {},
   "outputs": [
    {
     "name": "stdout",
     "output_type": "stream",
     "text": [
      "Symmetry: C3 axis (-x-y-z, x, z)\n",
      "Li [0.75, 0.75, 0.75] -> [ 0.75  0.75 -2.25]\n"
     ]
    },
    {
     "data": {
      "application/vnd.jupyter.widget-view+json": {
       "model_id": "3a4ff77ff6774958a111cd4815a5b4b6",
       "version_major": 2,
       "version_minor": 0
      },
      "text/plain": [
       "JsmolView(layout=Layout(align_self='stretch', height='400px'))"
      ]
     },
     "metadata": {},
     "output_type": "display_data"
    }
   ],
   "source": [
    "symid1, symname1, atomno1 = [(a, b, c) for a, b, c in symmetries if c == 1][0]\n",
    "print(f'Symmetry: {symname1}')\n",
    "print(f'Li {Li} -> {LiSym}')\n",
    "\n",
    "view1 = quick_view(structure)\n",
    "display(view1)"
   ]
  },
  {
   "cell_type": "code",
   "execution_count": 7,
   "id": "5d9cef21",
   "metadata": {},
   "outputs": [],
   "source": [
    "view1.script(f'draw symop {symid1} {{atomno={atomno1}}}')"
   ]
  },
  {
   "cell_type": "code",
   "execution_count": null,
   "id": "2345a725",
   "metadata": {},
   "outputs": [],
   "source": []
  },
  {
   "cell_type": "code",
   "execution_count": 8,
   "id": "c5bfaf93",
   "metadata": {},
   "outputs": [
    {
     "name": "stdout",
     "output_type": "stream",
     "text": [
      "Symmetry: C2 axis (y, x, z-x-y)\n",
      "Zn [0.25, 0.25, 0.25] -> [0.25 0.25 0.25]\n"
     ]
    },
    {
     "data": {
      "application/vnd.jupyter.widget-view+json": {
       "model_id": "02b0b6b652e1407697a46fcb234ac049",
       "version_major": 2,
       "version_minor": 0
      },
      "text/plain": [
       "JsmolView(layout=Layout(align_self='stretch', height='400px'))"
      ]
     },
     "metadata": {},
     "output_type": "display_data"
    }
   ],
   "source": [
    "symid2, symname2, atomno2 = [(a, b, c) for a, b, c in symmetries if c == 2][0]\n",
    "print(f'Symmetry: {symname2}')\n",
    "print(f'Zn {Zn} -> {ZnSym}')\n",
    "\n",
    "view2 = quick_view(structure)\n",
    "display(view2)"
   ]
  },
  {
   "cell_type": "code",
   "execution_count": 9,
   "id": "c0fc33f9",
   "metadata": {},
   "outputs": [],
   "source": [
    "view2.script(f'draw symop {symid2} {{atomno={atomno2}}}')"
   ]
  },
  {
   "cell_type": "code",
   "execution_count": null,
   "id": "d668cbc1",
   "metadata": {},
   "outputs": [],
   "source": []
  },
  {
   "cell_type": "code",
   "execution_count": 10,
   "id": "1c8e093f",
   "metadata": {},
   "outputs": [
    {
     "name": "stdout",
     "output_type": "stream",
     "text": [
      "Symmetry: Mirror plane (y, x, z)\n",
      "As [0, 0, 0] -> [0. 0. 0.]\n"
     ]
    },
    {
     "data": {
      "application/vnd.jupyter.widget-view+json": {
       "model_id": "e42bd343090d48029d5a3a7df0071c3d",
       "version_major": 2,
       "version_minor": 0
      },
      "text/plain": [
       "JsmolView(layout=Layout(align_self='stretch', height='400px'))"
      ]
     },
     "metadata": {},
     "output_type": "display_data"
    }
   ],
   "source": [
    "symid3, symname3, atomno3 = [(a, b, c) for a, b, c in symmetries if c == 3][0]\n",
    "print(f'Symmetry: {symname3}')\n",
    "print(f'As {As} -> {AsSym}')\n",
    "\n",
    "view3 = quick_view(structure)\n",
    "display(view3)"
   ]
  },
  {
   "cell_type": "code",
   "execution_count": 11,
   "id": "b1a063dd",
   "metadata": {},
   "outputs": [],
   "source": [
    "view3.script(f'draw symop {symid3} {{atomno={atomno3}}}')"
   ]
  }
 ],
 "metadata": {
  "kernelspec": {
   "display_name": "Python 3",
   "language": "python",
   "name": "python3"
  },
  "language_info": {
   "codemirror_mode": {
    "name": "ipython",
    "version": 3
   },
   "file_extension": ".py",
   "mimetype": "text/x-python",
   "name": "python",
   "nbconvert_exporter": "python",
   "pygments_lexer": "ipython3",
   "version": "3.6.8"
  }
 },
 "nbformat": 4,
 "nbformat_minor": 5
}
