{
 "cells": [
  {
   "cell_type": "code",
   "execution_count": 101,
   "id": "e259843c",
   "metadata": {},
   "outputs": [
    {
     "data": {
      "application/vnd.jupyter.widget-view+json": {
       "model_id": "46837aa350e24b3890dc21f106ac001e",
       "version_major": 2,
       "version_minor": 0
      },
      "text/plain": [
       "Retrieving MaterialsDoc documents:   0%|          | 0/1 [00:00<?, ?it/s]"
      ]
     },
     "metadata": {},
     "output_type": "display_data"
    }
   ],
   "source": [
    "from pymatgen.ext.matproj import MPRester\n",
    "from pymatgen.core.structure import Structure\n",
    "from pymatgen.symmetry.analyzer import SpacegroupAnalyzer\n",
    "from jupyter_jsmol.pymatgen import quick_view\n",
    "\n",
    "with MPRester(\"fuMQt6Cv541dxycfavlOQ02CsLxUQcOm\") as m:\n",
    "\n",
    "    # Crée la structure pour le matériau considéré\n",
    "    structure = m.get_structure_by_material_id(\"mp-1011695\", conventional_unit_cell=True)"
   ]
  },
  {
   "cell_type": "code",
   "execution_count": 102,
   "id": "468b0ecd",
   "metadata": {},
   "outputs": [
    {
     "name": "stdout",
     "output_type": "stream",
     "text": [
      "Les différents sites sur lesquels nous pouvons travailler sont : \n",
      "\n",
      "[PeriodicSite: Cs (2.989, -1.726, 1.21) [0.6667, 0.3333, 0.08278], PeriodicSite: Cs (2.989, -1.726, 8.533) [0.6667, 0.3333, 0.5839], PeriodicSite: Cs (2.989, 1.726, 6.081) [0.3333, 0.6667, 0.4161], PeriodicSite: Cs (2.989, 1.726, 13.4) [0.3333, 0.6667, 0.9172], PeriodicSite: Cs (0.0, 0.0, 10.95) [0.0, 0.0, 0.7494], PeriodicSite: Cs (0.0, 0.0, 3.662) [0.0, 0.0, 0.2506], PeriodicSite: Se (0.0, 0.0, 0.0) [0.0, 0.0, 0.0], PeriodicSite: Se (2.989, -1.726, 4.871) [0.6667, 0.3333, 0.3333], PeriodicSite: Se (2.989, 1.726, 9.743) [0.3333, 0.6667, 0.6667]]\n"
     ]
    },
    {
     "data": {
      "application/vnd.jupyter.widget-view+json": {
       "model_id": "b4a0ea2535cf43ddbc1c95d4d11e0f6c",
       "version_major": 2,
       "version_minor": 0
      },
      "text/plain": [
       "JsmolView(layout=Layout(align_self='stretch', height='400px'))"
      ]
     },
     "metadata": {},
     "output_type": "display_data"
    }
   ],
   "source": [
    "# Création du spacegroup analyzer et des sites du cristal, et représentation de ce dernier.\n",
    "sga = SpacegroupAnalyzer(structure)\n",
    "\n",
    "sites = structure.sites\n",
    "print(\"Les différents sites sur lesquels nous pouvons travailler sont : \\n\")\n",
    "print(sites)\n",
    "\n",
    "cristal_view = quick_view(structure, supercell=[1,1,1])\n",
    "display(cristal_view)"
   ]
  },
  {
   "cell_type": "code",
   "execution_count": 103,
   "id": "673e4212",
   "metadata": {},
   "outputs": [
    {
     "name": "stdout",
     "output_type": "stream",
     "text": [
      "[SymmOp(affine_matrix=array([[1., 0., 0., 0.],\n",
      "       [0., 1., 0., 0.],\n",
      "       [0., 0., 1., 0.],\n",
      "       [0., 0., 0., 1.]])), SymmOp(affine_matrix=array([[-1.,  0.,  0.,  0.],\n",
      "       [ 0., -1.,  0.,  0.],\n",
      "       [ 0.,  0., -1.,  0.],\n",
      "       [ 0.,  0.,  0.,  1.]])), SymmOp(affine_matrix=array([[ 0., -1.,  0.,  0.],\n",
      "       [ 1., -1.,  0.,  0.],\n",
      "       [ 0.,  0.,  1.,  0.],\n",
      "       [ 0.,  0.,  0.,  1.]])), SymmOp(affine_matrix=array([[ 0.,  1.,  0.,  0.],\n",
      "       [-1.,  1.,  0.,  0.],\n",
      "       [ 0.,  0., -1.,  0.],\n",
      "       [ 0.,  0.,  0.,  1.]])), SymmOp(affine_matrix=array([[-1.,  1.,  0.,  0.],\n",
      "       [-1.,  0.,  0.,  0.],\n",
      "       [ 0.,  0.,  1.,  0.],\n",
      "       [ 0.,  0.,  0.,  1.]])), SymmOp(affine_matrix=array([[ 1., -1.,  0.,  0.],\n",
      "       [ 1.,  0.,  0.,  0.],\n",
      "       [ 0.,  0., -1.,  0.],\n",
      "       [ 0.,  0.,  0.,  1.]])), SymmOp(affine_matrix=array([[ 0.,  1.,  0.,  0.],\n",
      "       [ 1.,  0.,  0.,  0.],\n",
      "       [ 0.,  0., -1.,  0.],\n",
      "       [ 0.,  0.,  0.,  1.]])), SymmOp(affine_matrix=array([[ 0., -1.,  0.,  0.],\n",
      "       [-1.,  0.,  0.,  0.],\n",
      "       [ 0.,  0.,  1.,  0.],\n",
      "       [ 0.,  0.,  0.,  1.]])), SymmOp(affine_matrix=array([[ 1., -1.,  0.,  0.],\n",
      "       [ 0., -1.,  0.,  0.],\n",
      "       [ 0.,  0., -1.,  0.],\n",
      "       [ 0.,  0.,  0.,  1.]])), SymmOp(affine_matrix=array([[-1.,  1.,  0.,  0.],\n",
      "       [ 0.,  1.,  0.,  0.],\n",
      "       [ 0.,  0.,  1.,  0.],\n",
      "       [ 0.,  0.,  0.,  1.]])), SymmOp(affine_matrix=array([[-1.,  0.,  0.,  0.],\n",
      "       [-1.,  1.,  0.,  0.],\n",
      "       [ 0.,  0., -1.,  0.],\n",
      "       [ 0.,  0.,  0.,  1.]])), SymmOp(affine_matrix=array([[ 1.,  0.,  0.,  0.],\n",
      "       [ 1., -1.,  0.,  0.],\n",
      "       [ 0.,  0.,  1.,  0.],\n",
      "       [ 0.,  0.,  0.,  1.]])), SymmOp(affine_matrix=array([[1.        , 0.        , 0.        , 0.66666667],\n",
      "       [0.        , 1.        , 0.        , 0.33333333],\n",
      "       [0.        , 0.        , 1.        , 0.33333333],\n",
      "       [0.        , 0.        , 0.        , 1.        ]])), SymmOp(affine_matrix=array([[-1.        ,  0.        ,  0.        ,  0.66666667],\n",
      "       [ 0.        , -1.        ,  0.        ,  0.33333333],\n",
      "       [ 0.        ,  0.        , -1.        ,  0.33333333],\n",
      "       [ 0.        ,  0.        ,  0.        ,  1.        ]])), SymmOp(affine_matrix=array([[ 0.        , -1.        ,  0.        ,  0.66666667],\n",
      "       [ 1.        , -1.        ,  0.        ,  0.33333333],\n",
      "       [ 0.        ,  0.        ,  1.        ,  0.33333333],\n",
      "       [ 0.        ,  0.        ,  0.        ,  1.        ]])), SymmOp(affine_matrix=array([[ 0.        ,  1.        ,  0.        ,  0.66666667],\n",
      "       [-1.        ,  1.        ,  0.        ,  0.33333333],\n",
      "       [ 0.        ,  0.        , -1.        ,  0.33333333],\n",
      "       [ 0.        ,  0.        ,  0.        ,  1.        ]])), SymmOp(affine_matrix=array([[-1.        ,  1.        ,  0.        ,  0.66666667],\n",
      "       [-1.        ,  0.        ,  0.        ,  0.33333333],\n",
      "       [ 0.        ,  0.        ,  1.        ,  0.33333333],\n",
      "       [ 0.        ,  0.        ,  0.        ,  1.        ]])), SymmOp(affine_matrix=array([[ 1.        , -1.        ,  0.        ,  0.66666667],\n",
      "       [ 1.        ,  0.        ,  0.        ,  0.33333333],\n",
      "       [ 0.        ,  0.        , -1.        ,  0.33333333],\n",
      "       [ 0.        ,  0.        ,  0.        ,  1.        ]])), SymmOp(affine_matrix=array([[ 0.        ,  1.        ,  0.        ,  0.66666667],\n",
      "       [ 1.        ,  0.        ,  0.        ,  0.33333333],\n",
      "       [ 0.        ,  0.        , -1.        ,  0.33333333],\n",
      "       [ 0.        ,  0.        ,  0.        ,  1.        ]])), SymmOp(affine_matrix=array([[ 0.        , -1.        ,  0.        ,  0.66666667],\n",
      "       [-1.        ,  0.        ,  0.        ,  0.33333333],\n",
      "       [ 0.        ,  0.        ,  1.        ,  0.33333333],\n",
      "       [ 0.        ,  0.        ,  0.        ,  1.        ]])), SymmOp(affine_matrix=array([[ 1.        , -1.        ,  0.        ,  0.66666667],\n",
      "       [ 0.        , -1.        ,  0.        ,  0.33333333],\n",
      "       [ 0.        ,  0.        , -1.        ,  0.33333333],\n",
      "       [ 0.        ,  0.        ,  0.        ,  1.        ]])), SymmOp(affine_matrix=array([[-1.        ,  1.        ,  0.        ,  0.66666667],\n",
      "       [ 0.        ,  1.        ,  0.        ,  0.33333333],\n",
      "       [ 0.        ,  0.        ,  1.        ,  0.33333333],\n",
      "       [ 0.        ,  0.        ,  0.        ,  1.        ]])), SymmOp(affine_matrix=array([[-1.        ,  0.        ,  0.        ,  0.66666667],\n",
      "       [-1.        ,  1.        ,  0.        ,  0.33333333],\n",
      "       [ 0.        ,  0.        , -1.        ,  0.33333333],\n",
      "       [ 0.        ,  0.        ,  0.        ,  1.        ]])), SymmOp(affine_matrix=array([[ 1.        ,  0.        ,  0.        ,  0.66666667],\n",
      "       [ 1.        , -1.        ,  0.        ,  0.33333333],\n",
      "       [ 0.        ,  0.        ,  1.        ,  0.33333333],\n",
      "       [ 0.        ,  0.        ,  0.        ,  1.        ]])), SymmOp(affine_matrix=array([[1.        , 0.        , 0.        , 0.33333333],\n",
      "       [0.        , 1.        , 0.        , 0.66666667],\n",
      "       [0.        , 0.        , 1.        , 0.66666667],\n",
      "       [0.        , 0.        , 0.        , 1.        ]])), SymmOp(affine_matrix=array([[-1.        ,  0.        ,  0.        ,  0.33333333],\n",
      "       [ 0.        , -1.        ,  0.        ,  0.66666667],\n",
      "       [ 0.        ,  0.        , -1.        ,  0.66666667],\n",
      "       [ 0.        ,  0.        ,  0.        ,  1.        ]])), SymmOp(affine_matrix=array([[ 0.        , -1.        ,  0.        ,  0.33333333],\n",
      "       [ 1.        , -1.        ,  0.        ,  0.66666667],\n",
      "       [ 0.        ,  0.        ,  1.        ,  0.66666667],\n",
      "       [ 0.        ,  0.        ,  0.        ,  1.        ]])), SymmOp(affine_matrix=array([[ 0.        ,  1.        ,  0.        ,  0.33333333],\n",
      "       [-1.        ,  1.        ,  0.        ,  0.66666667],\n",
      "       [ 0.        ,  0.        , -1.        ,  0.66666667],\n",
      "       [ 0.        ,  0.        ,  0.        ,  1.        ]])), SymmOp(affine_matrix=array([[-1.        ,  1.        ,  0.        ,  0.33333333],\n",
      "       [-1.        ,  0.        ,  0.        ,  0.66666667],\n",
      "       [ 0.        ,  0.        ,  1.        ,  0.66666667],\n",
      "       [ 0.        ,  0.        ,  0.        ,  1.        ]])), SymmOp(affine_matrix=array([[ 1.        , -1.        ,  0.        ,  0.33333333],\n",
      "       [ 1.        ,  0.        ,  0.        ,  0.66666667],\n",
      "       [ 0.        ,  0.        , -1.        ,  0.66666667],\n",
      "       [ 0.        ,  0.        ,  0.        ,  1.        ]])), SymmOp(affine_matrix=array([[ 0.        ,  1.        ,  0.        ,  0.33333333],\n",
      "       [ 1.        ,  0.        ,  0.        ,  0.66666667],\n",
      "       [ 0.        ,  0.        , -1.        ,  0.66666667],\n",
      "       [ 0.        ,  0.        ,  0.        ,  1.        ]])), SymmOp(affine_matrix=array([[ 0.        , -1.        ,  0.        ,  0.33333333],\n",
      "       [-1.        ,  0.        ,  0.        ,  0.66666667],\n",
      "       [ 0.        ,  0.        ,  1.        ,  0.66666667],\n",
      "       [ 0.        ,  0.        ,  0.        ,  1.        ]])), SymmOp(affine_matrix=array([[ 1.        , -1.        ,  0.        ,  0.33333333],\n",
      "       [ 0.        , -1.        ,  0.        ,  0.66666667],\n",
      "       [ 0.        ,  0.        , -1.        ,  0.66666667],\n",
      "       [ 0.        ,  0.        ,  0.        ,  1.        ]])), SymmOp(affine_matrix=array([[-1.        ,  1.        ,  0.        ,  0.33333333],\n",
      "       [ 0.        ,  1.        ,  0.        ,  0.66666667],\n",
      "       [ 0.        ,  0.        ,  1.        ,  0.66666667],\n",
      "       [ 0.        ,  0.        ,  0.        ,  1.        ]])), SymmOp(affine_matrix=array([[-1.        ,  0.        ,  0.        ,  0.33333333],\n",
      "       [-1.        ,  1.        ,  0.        ,  0.66666667],\n",
      "       [ 0.        ,  0.        , -1.        ,  0.66666667],\n",
      "       [ 0.        ,  0.        ,  0.        ,  1.        ]])), SymmOp(affine_matrix=array([[ 1.        ,  0.        ,  0.        ,  0.33333333],\n",
      "       [ 1.        , -1.        ,  0.        ,  0.66666667],\n",
      "       [ 0.        ,  0.        ,  1.        ,  0.66666667],\n",
      "       [ 0.        ,  0.        ,  0.        ,  1.        ]]))]\n"
     ]
    }
   ],
   "source": [
    "# On stocke les différentes symétries.\n",
    "sym = sga.get_symmetry_operations()\n",
    "print(sym)\n",
    "\n",
    "# Opérations de symétrie considérées\n",
    "first_sym = sym[1]\n",
    "second_sym = sym[13]"
   ]
  },
  {
   "cell_type": "markdown",
   "id": "74257719",
   "metadata": {},
   "source": [
    "# **Première opération de symétrie**\n",
    "La première opération de symétrie choisie est l'inversion. Les matrices associées sont : "
   ]
  },
  {
   "cell_type": "code",
   "execution_count": 104,
   "id": "0407c2b5",
   "metadata": {},
   "outputs": [
    {
     "name": "stdout",
     "output_type": "stream",
     "text": [
      "Rot:\n",
      "[[-1.  0.  0.]\n",
      " [ 0. -1.  0.]\n",
      " [ 0.  0. -1.]]\n",
      "tau\n",
      "[0. 0. 0.]\n"
     ]
    }
   ],
   "source": [
    "print(sym[1])"
   ]
  },
  {
   "cell_type": "code",
   "execution_count": 105,
   "id": "4892d833",
   "metadata": {},
   "outputs": [
    {
     "data": {
      "application/vnd.jupyter.widget-view+json": {
       "model_id": "c03ec235b8794e358f9acf6c1956d0dd",
       "version_major": 2,
       "version_minor": 0
      },
      "text/plain": [
       "JsmolView(layout=Layout(align_self='stretch', height='400px'))"
      ]
     },
     "metadata": {},
     "output_type": "display_data"
    },
    {
     "name": "stdout",
     "output_type": "stream",
     "text": [
      "Coordonnées de l'atome de référence avant l'opération d'inversion :  [0.66666667 0.33333333 0.08278322]\n",
      "Coordonnées de l'atome de référence après l'opération d'inversion :  [-0.66666667 -0.33333333 -0.08278322]\n"
     ]
    }
   ],
   "source": [
    "# représentation de l'opération\n",
    "view = quick_view(structure,supercell=[1,1,1])\n",
    "display(view)\n",
    "\n",
    "#Représentation de l'opération de symétrie sur plusieurs atomes Cs\n",
    "view.script('draw symop 2 {atomno = 7}; select atomno=7; color red ; draw symop 2 {atomno = 1}; select atomno=1; color red ; draw symop 2 {atomno = 10}; select atomno=10; color red')\n",
    "\n",
    "# Atome de référence sur lequel sera appliquée l'opération de symétrie.\n",
    "ref_atom = sites[0].frac_coords\n",
    "\n",
    "inv_pos = first_sym.operate(ref_atom)\n",
    "print(\"Coordonnées de l'atome de référence avant l'opération d'inversion : \", ref_atom)\n",
    "print(\"Coordonnées de l'atome de référence après l'opération d'inversion : \", inv_pos)"
   ]
  },
  {
   "cell_type": "markdown",
   "id": "769d682d",
   "metadata": {},
   "source": [
    "# **Deuxième opération de symétrie**\n",
    "La deuxième opération de symétrie est une réflexion. Les matrices associées sont :"
   ]
  },
  {
   "cell_type": "code",
   "execution_count": 106,
   "id": "13705a39",
   "metadata": {},
   "outputs": [
    {
     "name": "stdout",
     "output_type": "stream",
     "text": [
      "Rot:\n",
      "[[-1.  0.  0.]\n",
      " [ 0. -1.  0.]\n",
      " [ 0.  0. -1.]]\n",
      "tau\n",
      "[0.66666667 0.33333333 0.33333333]\n"
     ]
    }
   ],
   "source": [
    "print(sym[13])"
   ]
  },
  {
   "cell_type": "code",
   "execution_count": 107,
   "id": "be9aee3b",
   "metadata": {},
   "outputs": [
    {
     "data": {
      "application/vnd.jupyter.widget-view+json": {
       "model_id": "c1b5967eede546ec83c43a0cb0a67d19",
       "version_major": 2,
       "version_minor": 0
      },
      "text/plain": [
       "JsmolView(layout=Layout(align_self='stretch', height='400px'))"
      ]
     },
     "metadata": {},
     "output_type": "display_data"
    },
    {
     "name": "stdout",
     "output_type": "stream",
     "text": [
      "Coordonnées de l'atome de référence avant l'opération d'inversion :  [0.33333333 0.66666667 0.66666667]\n",
      "Coordonnées de l'atome de référence après l'opération d'inversion :  [ 0.33333333 -0.33333333 -0.33333333]\n"
     ]
    }
   ],
   "source": [
    "# représentation de l'opération\n",
    "view = quick_view(structure,supercell=[1,1,1])\n",
    "display(view)\n",
    "view.script('draw symop 14 {atomno = 7}; select atomno=7; color red')\n",
    "\n",
    "# Atome de référence sur lequel sera appliquée l'opération de symétrie.\n",
    "ref_atom = sites[-1].frac_coords\n",
    "\n",
    "inv_pos = second_sym.operate(ref_atom)\n",
    "print(\"Coordonnées de l'atome de référence avant l'opération d'inversion : \", ref_atom)\n",
    "print(\"Coordonnées de l'atome de référence après l'opération d'inversion : \", inv_pos)"
   ]
  },
  {
   "cell_type": "markdown",
   "id": "dec3a44a",
   "metadata": {},
   "source": [
    "# **Troisième opération de symétrie**"
   ]
  },
  {
   "cell_type": "code",
   "execution_count": 108,
   "id": "855cfd83",
   "metadata": {},
   "outputs": [
    {
     "name": "stdout",
     "output_type": "stream",
     "text": [
      "Rot:\n",
      "[[-1.  0.  0.]\n",
      " [ 0. -1.  0.]\n",
      " [ 0.  0. -1.]]\n",
      "tau\n",
      "[0.33333333 0.66666667 0.66666667]\n"
     ]
    },
    {
     "data": {
      "application/vnd.jupyter.widget-view+json": {
       "model_id": "8e5cb7fd0e9a466e9091b37c8337d2e3",
       "version_major": 2,
       "version_minor": 0
      },
      "text/plain": [
       "JsmolView(layout=Layout(align_self='stretch', height='400px'))"
      ]
     },
     "metadata": {},
     "output_type": "display_data"
    },
    {
     "name": "stdout",
     "output_type": "stream",
     "text": [
      "Coordonnées de l'atome de référence avant l'opération d'inversion :  [0.         0.         0.25055012]\n",
      "Coordonnées de l'atome de référence après l'opération d'inversion :  [0.33333333 0.66666667 0.91721678]\n"
     ]
    }
   ],
   "source": [
    "third_sym = sym[35]\n",
    "print(sym[25])\n",
    "# représentation de l'opération\n",
    "view = quick_view(structure,supercell=[1,1,1])\n",
    "display(view)\n",
    "view.script('draw symop 36 {atomno = 5}; select atomno=5; color red')\n",
    "#1 et 3\n",
    "\n",
    "# Atome de référence sur lequel sera appliquée l'opération de symétrie.\n",
    "ref_atom = sites[5].frac_coords\n",
    "\n",
    "inv_pos = third_sym.operate(ref_atom)\n",
    "print(\"Coordonnées de l'atome de référence avant l'opération d'inversion : \", ref_atom)\n",
    "print(\"Coordonnées de l'atome de référence après l'opération d'inversion : \", inv_pos)"
   ]
  },
  {
   "cell_type": "code",
   "execution_count": null,
   "id": "2a53e9e6",
   "metadata": {},
   "outputs": [],
   "source": []
  },
  {
   "cell_type": "code",
   "execution_count": null,
   "id": "41980f71",
   "metadata": {},
   "outputs": [],
   "source": []
  },
  {
   "cell_type": "code",
   "execution_count": null,
   "id": "aa520182",
   "metadata": {},
   "outputs": [],
   "source": []
  }
 ],
 "metadata": {
  "kernelspec": {
   "display_name": "Python 3 (ipykernel)",
   "language": "python",
   "name": "python3"
  },
  "language_info": {
   "codemirror_mode": {
    "name": "ipython",
    "version": 3
   },
   "file_extension": ".py",
   "mimetype": "text/x-python",
   "name": "python",
   "nbconvert_exporter": "python",
   "pygments_lexer": "ipython3",
   "version": "3.9.13"
  }
 },
 "nbformat": 4,
 "nbformat_minor": 5
}
