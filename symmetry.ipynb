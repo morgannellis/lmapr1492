{
 "cells": [
  {
   "cell_type": "code",
   "execution_count": null,
   "id": "8e41b492",
   "metadata": {},
   "outputs": [
    {
     "ename": "",
     "evalue": "",
     "output_type": "error",
     "traceback": [
      "\u001b[1;31mRunning cells with 'c:\\Users\\Asus\\AppData\\Local\\Programs\\Python\\Python39-32\\python.exe' requires the ipykernel package.\n",
      "\u001b[1;31mRun the following command to install 'ipykernel' into the Python environment. \n",
      "\u001b[1;31mCommand: 'c:/Users/Asus/AppData/Local/Programs/Python/Python39-32/python.exe -m pip install ipykernel -U --user --force-reinstall'"
     ]
    }
   ],
   "source": [
    "import numpy as np\n",
    "from pymatgen.ext.matproj import MPRester\n",
    "from pymatgen.core.operations import SymmOp\n",
    "from pymatgen.symmetry.analyzer import SpacegroupAnalyzer\n",
    "from pymatgen.electronic_structure.plotter import BSPlotter\n",
    "from pymatgen.phonon.plotter import PhononBSPlotter\n",
    "from jupyter_jsmol.pymatgen import quick_view\n",
    "from lmapr1492 import plot_brillouin_zone, get_plot_bs, get_plot_dos, get_plot_bs_and_dos, get_branch_wavevectors\n",
    "from plotly.subplots import make_subplots\n",
    "import plotly.graph_objects as go"
   ]
  },
  {
   "cell_type": "code",
   "execution_count": null,
   "id": "68479a66",
   "metadata": {},
   "outputs": [
    {
     "ename": "",
     "evalue": "",
     "output_type": "error",
     "traceback": [
      "\u001b[1;31mRunning cells with 'c:\\Users\\Asus\\AppData\\Local\\Programs\\Python\\Python39-32\\python.exe' requires the ipykernel package.\n",
      "\u001b[1;31mRun the following command to install 'ipykernel' into the Python environment. \n",
      "\u001b[1;31mCommand: 'c:/Users/Asus/AppData/Local/Programs/Python/Python39-32/python.exe -m pip install ipykernel -U --user --force-reinstall'"
     ]
    }
   ],
   "source": [
    "mp_key = \"ER5V8i0JUw7k31Nk5IpkvogP61BDz9cw\"\n",
    "mp_id = \"mp-5077\""
   ]
  },
  {
   "cell_type": "code",
   "execution_count": null,
   "id": "f312daca",
   "metadata": {},
   "outputs": [
    {
     "ename": "",
     "evalue": "",
     "output_type": "error",
     "traceback": [
      "\u001b[1;31mRunning cells with 'c:\\Users\\Asus\\AppData\\Local\\Programs\\Python\\Python39-32\\python.exe' requires the ipykernel package.\n",
      "\u001b[1;31mRun the following command to install 'ipykernel' into the Python environment. \n",
      "\u001b[1;31mCommand: 'c:/Users/Asus/AppData/Local/Programs/Python/Python39-32/python.exe -m pip install ipykernel -U --user --force-reinstall'"
     ]
    }
   ],
   "source": [
    "with MPRester(mp_key) as m:\n",
    "    prim_struc = m.get_structure_by_material_id(mp_id)\n",
    "    el_bs = m.get_bandstructure_by_material_id(mp_id)\n",
    "    el_dos = m.get_dos_by_material_id(mp_id)\n",
    "    ph_bs = m.get_phonon_bandstructure_by_material_id(mp_id)\n",
    "    ph_dos = m.get_phonon_dos_by_material_id(mp_id)\n",
    "conv_struc = SpacegroupAnalyzer(prim_struc).get_conventional_standard_structure()\n",
    "symmops = SpacegroupAnalyzer(conv_struc).get_space_group_operations()"
   ]
  },
  {
   "cell_type": "markdown",
   "id": "8f2169bb",
   "metadata": {},
   "source": [
    "# Structure symmetry"
   ]
  },
  {
   "cell_type": "code",
   "execution_count": null,
   "id": "0067bf00",
   "metadata": {},
   "outputs": [
    {
     "ename": "",
     "evalue": "",
     "output_type": "error",
     "traceback": [
      "\u001b[1;31mRunning cells with 'c:\\Users\\Asus\\AppData\\Local\\Programs\\Python\\Python39-32\\python.exe' requires the ipykernel package.\n",
      "\u001b[1;31mRun the following command to install 'ipykernel' into the Python environment. \n",
      "\u001b[1;31mCommand: 'c:/Users/Asus/AppData/Local/Programs/Python/Python39-32/python.exe -m pip install ipykernel -U --user --force-reinstall'"
     ]
    }
   ],
   "source": [
    "i_atom = 7\n",
    "i_symmop = 2\n",
    "\n",
    "view = quick_view(prim_struc, \"packed\", conventional = True)\n",
    "display(view)\n",
    "view.script('select antimony; color lightsalmon')\n",
    "view.script('select sodium; color gold')\n",
    "view.script('select lithium; color palegreen')\n",
    "view.script('draw SYMOP ' + str(i_symmop) + ' {atomno = ' + str(i_atom) + '}')"
   ]
  },
  {
   "cell_type": "code",
   "execution_count": null,
   "id": "3bb4c1a7",
   "metadata": {},
   "outputs": [
    {
     "ename": "",
     "evalue": "",
     "output_type": "error",
     "traceback": [
      "\u001b[1;31mRunning cells with 'c:\\Users\\Asus\\AppData\\Local\\Programs\\Python\\Python39-32\\python.exe' requires the ipykernel package.\n",
      "\u001b[1;31mRun the following command to install 'ipykernel' into the Python environment. \n",
      "\u001b[1;31mCommand: 'c:/Users/Asus/AppData/Local/Programs/Python/Python39-32/python.exe -m pip install ipykernel -U --user --force-reinstall'"
     ]
    }
   ],
   "source": [
    "symmop = symmops[i_symmop - 1]\n",
    "print(symmop)"
   ]
  },
  {
   "cell_type": "code",
   "execution_count": null,
   "id": "86b95c2a",
   "metadata": {},
   "outputs": [
    {
     "ename": "",
     "evalue": "",
     "output_type": "error",
     "traceback": [
      "\u001b[1;31mRunning cells with 'c:\\Users\\Asus\\AppData\\Local\\Programs\\Python\\Python39-32\\python.exe' requires the ipykernel package.\n",
      "\u001b[1;31mRun the following command to install 'ipykernel' into the Python environment. \n",
      "\u001b[1;31mCommand: 'c:/Users/Asus/AppData/Local/Programs/Python/Python39-32/python.exe -m pip install ipykernel -U --user --force-reinstall'"
     ]
    }
   ],
   "source": [
    "pos_init = conv_struc.sites[i_atom -1].frac_coords\n",
    "print(pos_init)"
   ]
  },
  {
   "cell_type": "code",
   "execution_count": null,
   "id": "de99dd5b",
   "metadata": {},
   "outputs": [
    {
     "ename": "",
     "evalue": "",
     "output_type": "error",
     "traceback": [
      "\u001b[1;31mRunning cells with 'c:\\Users\\Asus\\AppData\\Local\\Programs\\Python\\Python39-32\\python.exe' requires the ipykernel package.\n",
      "\u001b[1;31mRun the following command to install 'ipykernel' into the Python environment. \n",
      "\u001b[1;31mCommand: 'c:/Users/Asus/AppData/Local/Programs/Python/Python39-32/python.exe -m pip install ipykernel -U --user --force-reinstall'"
     ]
    }
   ],
   "source": [
    "pos_final = symmop.operate(pos_init)\n",
    "print(pos_final)"
   ]
  },
  {
   "cell_type": "code",
   "execution_count": null,
   "id": "3e0e96e2",
   "metadata": {},
   "outputs": [
    {
     "ename": "",
     "evalue": "",
     "output_type": "error",
     "traceback": [
      "\u001b[1;31mRunning cells with 'c:\\Users\\Asus\\AppData\\Local\\Programs\\Python\\Python39-32\\python.exe' requires the ipykernel package.\n",
      "\u001b[1;31mRun the following command to install 'ipykernel' into the Python environment. \n",
      "\u001b[1;31mCommand: 'c:/Users/Asus/AppData/Local/Programs/Python/Python39-32/python.exe -m pip install ipykernel -U --user --force-reinstall'"
     ]
    }
   ],
   "source": [
    "for k_atom, site in enumerate(conv_struc.sites):\n",
    "    if np.linalg.norm((site.frac_coords - pos_final)%1) < 1e-6:\n",
    "        j_atom = k_atom + 1\n",
    "print(j_atom, conv_struc.sites[j_atom -1].frac_coords)"
   ]
  },
  {
   "cell_type": "markdown",
   "id": "bcba4360",
   "metadata": {},
   "source": [
    "# Brillouin zone"
   ]
  },
  {
   "cell_type": "code",
   "execution_count": null,
   "id": "78549b9a",
   "metadata": {},
   "outputs": [
    {
     "ename": "",
     "evalue": "",
     "output_type": "error",
     "traceback": [
      "\u001b[1;31mRunning cells with 'c:\\Users\\Asus\\AppData\\Local\\Programs\\Python\\Python39-32\\python.exe' requires the ipykernel package.\n",
      "\u001b[1;31mRun the following command to install 'ipykernel' into the Python environment. \n",
      "\u001b[1;31mCommand: 'c:/Users/Asus/AppData/Local/Programs/Python/Python39-32/python.exe -m pip install ipykernel -U --user --force-reinstall'"
     ]
    }
   ],
   "source": [
    "plot_brillouin_zone(el_bs.structure)"
   ]
  },
  {
   "cell_type": "markdown",
   "id": "bf478647",
   "metadata": {},
   "source": [
    "# Electronic bandstructure"
   ]
  },
  {
   "cell_type": "code",
   "execution_count": null,
   "id": "3a36c405",
   "metadata": {
    "scrolled": false
   },
   "outputs": [
    {
     "ename": "",
     "evalue": "",
     "output_type": "error",
     "traceback": [
      "\u001b[1;31mRunning cells with 'c:\\Users\\Asus\\AppData\\Local\\Programs\\Python\\Python39-32\\python.exe' requires the ipykernel package.\n",
      "\u001b[1;31mRun the following command to install 'ipykernel' into the Python environment. \n",
      "\u001b[1;31mCommand: 'c:/Users/Asus/AppData/Local/Programs/Python/Python39-32/python.exe -m pip install ipykernel -U --user --force-reinstall'"
     ]
    }
   ],
   "source": [
    "fig_el_bs = get_plot_bs(el_bs, plot_range=[-4,7])\n",
    "fig_el_bs.show()"
   ]
  },
  {
   "cell_type": "code",
   "execution_count": null,
   "id": "39d211b8",
   "metadata": {},
   "outputs": [
    {
     "ename": "",
     "evalue": "",
     "output_type": "error",
     "traceback": [
      "\u001b[1;31mRunning cells with 'c:\\Users\\Asus\\AppData\\Local\\Programs\\Python\\Python39-32\\python.exe' requires the ipykernel package.\n",
      "\u001b[1;31mRun the following command to install 'ipykernel' into the Python environment. \n",
      "\u001b[1;31mCommand: 'c:/Users/Asus/AppData/Local/Programs/Python/Python39-32/python.exe -m pip install ipykernel -U --user --force-reinstall'"
     ]
    }
   ],
   "source": [
    "fig_el_dos = get_plot_dos(el_dos, plot_range=[-4,7])\n",
    "fig_el_dos.show()"
   ]
  },
  {
   "cell_type": "code",
   "execution_count": null,
   "id": "21d878b7",
   "metadata": {},
   "outputs": [
    {
     "ename": "",
     "evalue": "",
     "output_type": "error",
     "traceback": [
      "\u001b[1;31mRunning cells with 'c:\\Users\\Asus\\AppData\\Local\\Programs\\Python\\Python39-32\\python.exe' requires the ipykernel package.\n",
      "\u001b[1;31mRun the following command to install 'ipykernel' into the Python environment. \n",
      "\u001b[1;31mCommand: 'c:/Users/Asus/AppData/Local/Programs/Python/Python39-32/python.exe -m pip install ipykernel -U --user --force-reinstall'"
     ]
    }
   ],
   "source": [
    "fig_el_bs_and_dos = get_plot_bs_and_dos(el_bs, el_dos, plot_range=[-4,7])\n",
    "fig_el_bs_and_dos.show()"
   ]
  },
  {
   "cell_type": "code",
   "execution_count": null,
   "id": "0a0b149a",
   "metadata": {},
   "outputs": [
    {
     "ename": "",
     "evalue": "",
     "output_type": "error",
     "traceback": [
      "\u001b[1;31mRunning cells with 'c:\\Users\\Asus\\AppData\\Local\\Programs\\Python\\Python39-32\\python.exe' requires the ipykernel package.\n",
      "\u001b[1;31mRun the following command to install 'ipykernel' into the Python environment. \n",
      "\u001b[1;31mCommand: 'c:/Users/Asus/AppData/Local/Programs/Python/Python39-32/python.exe -m pip install ipykernel -U --user --force-reinstall'"
     ]
    }
   ],
   "source": [
    "xvals = fig_el_bs.to_dict()[\"data\"][0][\"x\"]\n",
    "yvals_vbm = fig_el_bs.to_dict()[\"data\"][2][\"y\"]\n",
    "yvals_cbm = fig_el_bs.to_dict()[\"data\"][3][\"y\"]"
   ]
  },
  {
   "cell_type": "code",
   "execution_count": null,
   "id": "6c4c6522",
   "metadata": {},
   "outputs": [
    {
     "ename": "",
     "evalue": "",
     "output_type": "error",
     "traceback": [
      "\u001b[1;31mRunning cells with 'c:\\Users\\Asus\\AppData\\Local\\Programs\\Python\\Python39-32\\python.exe' requires the ipykernel package.\n",
      "\u001b[1;31mRun the following command to install 'ipykernel' into the Python environment. \n",
      "\u001b[1;31mCommand: 'c:/Users/Asus/AppData/Local/Programs/Python/Python39-32/python.exe -m pip install ipykernel -U --user --force-reinstall'"
     ]
    }
   ],
   "source": [
    "xvals_band_edges = []\n",
    "yvals_band_edges = []\n",
    "for i in el_bs.get_vbm()[\"kpoint_index\"]:\n",
    "    xvals_band_edges.append(xvals[i])\n",
    "    yvals_band_edges.append(yvals_vbm[i])\n",
    "for i in el_bs.get_cbm()[\"kpoint_index\"]:\n",
    "    xvals_band_edges.append(xvals[i])\n",
    "    yvals_band_edges.append(yvals_cbm[i])"
   ]
  },
  {
   "cell_type": "code",
   "execution_count": null,
   "id": "6369c700",
   "metadata": {},
   "outputs": [
    {
     "ename": "",
     "evalue": "",
     "output_type": "error",
     "traceback": [
      "\u001b[1;31mRunning cells with 'c:\\Users\\Asus\\AppData\\Local\\Programs\\Python\\Python39-32\\python.exe' requires the ipykernel package.\n",
      "\u001b[1;31mRun the following command to install 'ipykernel' into the Python environment. \n",
      "\u001b[1;31mCommand: 'c:/Users/Asus/AppData/Local/Programs/Python/Python39-32/python.exe -m pip install ipykernel -U --user --force-reinstall'"
     ]
    }
   ],
   "source": [
    "for i in el_bs.get_vbm()[\"kpoint_index\"]:\n",
    "    scatter = go.Scatter(\n",
    "        x = xvals_band_edges, y = yvals_band_edges,\n",
    "        mode = \"markers\", marker = dict(color=\"black\"),\n",
    "        showlegend=False)\n",
    "    fig_el_bs.add_trace(scatter)\n",
    "fig_el_bs.update_layout(xaxis_range = [xvals[0], xvals[-1]])\n",
    "fig_el_bs.show()"
   ]
  },
  {
   "cell_type": "code",
   "execution_count": null,
   "id": "e3b79d35",
   "metadata": {},
   "outputs": [
    {
     "ename": "",
     "evalue": "",
     "output_type": "error",
     "traceback": [
      "\u001b[1;31mRunning cells with 'c:\\Users\\Asus\\AppData\\Local\\Programs\\Python\\Python39-32\\python.exe' requires the ipykernel package.\n",
      "\u001b[1;31mRun the following command to install 'ipykernel' into the Python environment. \n",
      "\u001b[1;31mCommand: 'c:/Users/Asus/AppData/Local/Programs/Python/Python39-32/python.exe -m pip install ipykernel -U --user --force-reinstall'"
     ]
    }
   ],
   "source": [
    "el_bs.get_vbm()"
   ]
  },
  {
   "cell_type": "code",
   "execution_count": null,
   "id": "59ef7f55",
   "metadata": {},
   "outputs": [
    {
     "ename": "",
     "evalue": "",
     "output_type": "error",
     "traceback": [
      "\u001b[1;31mRunning cells with 'c:\\Users\\Asus\\AppData\\Local\\Programs\\Python\\Python39-32\\python.exe' requires the ipykernel package.\n",
      "\u001b[1;31mRun the following command to install 'ipykernel' into the Python environment. \n",
      "\u001b[1;31mCommand: 'c:/Users/Asus/AppData/Local/Programs/Python/Python39-32/python.exe -m pip install ipykernel -U --user --force-reinstall'"
     ]
    }
   ],
   "source": [
    "el_bs.get_cbm()"
   ]
  },
  {
   "cell_type": "code",
   "execution_count": null,
   "id": "74af579b",
   "metadata": {},
   "outputs": [
    {
     "ename": "",
     "evalue": "",
     "output_type": "error",
     "traceback": [
      "\u001b[1;31mRunning cells with 'c:\\Users\\Asus\\AppData\\Local\\Programs\\Python\\Python39-32\\python.exe' requires the ipykernel package.\n",
      "\u001b[1;31mRun the following command to install 'ipykernel' into the Python environment. \n",
      "\u001b[1;31mCommand: 'c:/Users/Asus/AppData/Local/Programs/Python/Python39-32/python.exe -m pip install ipykernel -U --user --force-reinstall'"
     ]
    }
   ],
   "source": [
    "i_vbm = list(el_bs.get_vbm()['band_index'].values())[-1][-1]\n",
    "i_cbm = list(el_bs.get_cbm()['band_index'].values())[-1][0]\n",
    "print(\"VBM:\", i_vbm, \"CBM:\", i_cbm)"
   ]
  },
  {
   "cell_type": "markdown",
   "id": "38251e04",
   "metadata": {},
   "source": [
    "# Phonon bandstructure"
   ]
  },
  {
   "cell_type": "code",
   "execution_count": null,
   "id": "b188c1d9",
   "metadata": {},
   "outputs": [
    {
     "ename": "",
     "evalue": "",
     "output_type": "error",
     "traceback": [
      "\u001b[1;31mRunning cells with 'c:\\Users\\Asus\\AppData\\Local\\Programs\\Python\\Python39-32\\python.exe' requires the ipykernel package.\n",
      "\u001b[1;31mRun the following command to install 'ipykernel' into the Python environment. \n",
      "\u001b[1;31mCommand: 'c:/Users/Asus/AppData/Local/Programs/Python/Python39-32/python.exe -m pip install ipykernel -U --user --force-reinstall'"
     ]
    }
   ],
   "source": [
    "fig_ph_bs = get_plot_bs(ph_bs)\n",
    "fig_ph_bs.update_yaxes(rangemode=\"tozero\")\n",
    "fig_ph_bs.show()"
   ]
  },
  {
   "cell_type": "code",
   "execution_count": null,
   "id": "868503cc",
   "metadata": {},
   "outputs": [
    {
     "ename": "",
     "evalue": "",
     "output_type": "error",
     "traceback": [
      "\u001b[1;31mRunning cells with 'c:\\Users\\Asus\\AppData\\Local\\Programs\\Python\\Python39-32\\python.exe' requires the ipykernel package.\n",
      "\u001b[1;31mRun the following command to install 'ipykernel' into the Python environment. \n",
      "\u001b[1;31mCommand: 'c:/Users/Asus/AppData/Local/Programs/Python/Python39-32/python.exe -m pip install ipykernel -U --user --force-reinstall'"
     ]
    }
   ],
   "source": [
    "fig_ph_dos = get_plot_dos(ph_dos)\n",
    "fig_ph_dos.show()"
   ]
  },
  {
   "cell_type": "code",
   "execution_count": null,
   "id": "8e2103b6",
   "metadata": {},
   "outputs": [
    {
     "ename": "",
     "evalue": "",
     "output_type": "error",
     "traceback": [
      "\u001b[1;31mRunning cells with 'c:\\Users\\Asus\\AppData\\Local\\Programs\\Python\\Python39-32\\python.exe' requires the ipykernel package.\n",
      "\u001b[1;31mRun the following command to install 'ipykernel' into the Python environment. \n",
      "\u001b[1;31mCommand: 'c:/Users/Asus/AppData/Local/Programs/Python/Python39-32/python.exe -m pip install ipykernel -U --user --force-reinstall'"
     ]
    }
   ],
   "source": [
    "fig_ph_bs_and_dos = get_plot_bs_and_dos(ph_bs, ph_dos)\n",
    "fig_ph_bs_and_dos.update_yaxes(rangemode=\"tozero\")\n",
    "fig_ph_bs_and_dos.show()"
   ]
  },
  {
   "cell_type": "markdown",
   "id": "aac8fd65",
   "metadata": {},
   "source": [
    "# Distances in the Brillouin zone"
   ]
  },
  {
   "cell_type": "code",
   "execution_count": null,
   "id": "0ffa6539",
   "metadata": {},
   "outputs": [
    {
     "ename": "",
     "evalue": "",
     "output_type": "error",
     "traceback": [
      "\u001b[1;31mRunning cells with 'c:\\Users\\Asus\\AppData\\Local\\Programs\\Python\\Python39-32\\python.exe' requires the ipykernel package.\n",
      "\u001b[1;31mRun the following command to install 'ipykernel' into the Python environment. \n",
      "\u001b[1;31mCommand: 'c:/Users/Asus/AppData/Local/Programs/Python/Python39-32/python.exe -m pip install ipykernel -U --user --force-reinstall'"
     ]
    }
   ],
   "source": [
    "xvals = fig_el_bs.to_dict()[\"data\"][0][\"x\"]\n",
    "for i_branch, branch in enumerate(el_bs.branches):\n",
    "    wavevectors = get_branch_wavevectors(el_bs, i_branch)\n",
    "    v0 = np.dot(np.transpose(el_bs.structure.lattice.reciprocal_lattice.matrix), wavevectors[0])\n",
    "    v1 = np.dot(np.transpose(el_bs.structure.lattice.reciprocal_lattice.matrix), wavevectors[1])\n",
    "    print(\"{0:3d} {1:9.6f} {2:9.6f}\".format(i_branch, np.linalg.norm(v1-v0), xvals[branch[\"end_index\"]]-xvals[branch[\"start_index\"]]))"
   ]
  },
  {
   "cell_type": "code",
   "execution_count": null,
   "id": "8431d93b",
   "metadata": {},
   "outputs": [
    {
     "ename": "",
     "evalue": "",
     "output_type": "error",
     "traceback": [
      "\u001b[1;31mRunning cells with 'c:\\Users\\Asus\\AppData\\Local\\Programs\\Python\\Python39-32\\python.exe' requires the ipykernel package.\n",
      "\u001b[1;31mRun the following command to install 'ipykernel' into the Python environment. \n",
      "\u001b[1;31mCommand: 'c:/Users/Asus/AppData/Local/Programs/Python/Python39-32/python.exe -m pip install ipykernel -U --user --force-reinstall'"
     ]
    }
   ],
   "source": [
    "xvals = fig_ph_bs.to_dict()[\"data\"][0][\"x\"]\n",
    "for i_branch, branch in enumerate(ph_bs.branches):\n",
    "    wavevectors = get_branch_wavevectors(ph_bs, i_branch)\n",
    "    v0 = np.dot(np.transpose(ph_bs.structure.lattice.reciprocal_lattice.matrix), wavevectors[0])\n",
    "    v1 = np.dot(np.transpose(ph_bs.structure.lattice.reciprocal_lattice.matrix), wavevectors[1])\n",
    "    print(\"{0:3d} {1:9.6f} {2:9.6f}\".format(i_branch, np.linalg.norm(v1-v0), xvals[branch[\"end_index\"]]-xvals[branch[\"start_index\"]]))"
   ]
  },
  {
   "cell_type": "code",
   "execution_count": null,
   "id": "6abbe524",
   "metadata": {},
   "outputs": [
    {
     "ename": "",
     "evalue": "",
     "output_type": "error",
     "traceback": [
      "\u001b[1;31mRunning cells with 'c:\\Users\\Asus\\AppData\\Local\\Programs\\Python\\Python39-32\\python.exe' requires the ipykernel package.\n",
      "\u001b[1;31mRun the following command to install 'ipykernel' into the Python environment. \n",
      "\u001b[1;31mCommand: 'c:/Users/Asus/AppData/Local/Programs/Python/Python39-32/python.exe -m pip install ipykernel -U --user --force-reinstall'"
     ]
    }
   ],
   "source": [
    "el_bs.structure"
   ]
  },
  {
   "cell_type": "code",
   "execution_count": null,
   "id": "58bfe774",
   "metadata": {},
   "outputs": [
    {
     "ename": "",
     "evalue": "",
     "output_type": "error",
     "traceback": [
      "\u001b[1;31mRunning cells with 'c:\\Users\\Asus\\AppData\\Local\\Programs\\Python\\Python39-32\\python.exe' requires the ipykernel package.\n",
      "\u001b[1;31mRun the following command to install 'ipykernel' into the Python environment. \n",
      "\u001b[1;31mCommand: 'c:/Users/Asus/AppData/Local/Programs/Python/Python39-32/python.exe -m pip install ipykernel -U --user --force-reinstall'"
     ]
    }
   ],
   "source": [
    "ph_bs.structure"
   ]
  },
  {
   "cell_type": "code",
   "execution_count": null,
   "id": "494447a3",
   "metadata": {},
   "outputs": [
    {
     "ename": "",
     "evalue": "",
     "output_type": "error",
     "traceback": [
      "\u001b[1;31mRunning cells with 'c:\\Users\\Asus\\AppData\\Local\\Programs\\Python\\Python39-32\\python.exe' requires the ipykernel package.\n",
      "\u001b[1;31mRun the following command to install 'ipykernel' into the Python environment. \n",
      "\u001b[1;31mCommand: 'c:/Users/Asus/AppData/Local/Programs/Python/Python39-32/python.exe -m pip install ipykernel -U --user --force-reinstall'"
     ]
    }
   ],
   "source": [
    "prim_struc"
   ]
  },
  {
   "cell_type": "markdown",
   "id": "f9846dd1",
   "metadata": {},
   "source": [
    "# Specific heat"
   ]
  },
  {
   "cell_type": "code",
   "execution_count": null,
   "id": "4f1267a2",
   "metadata": {},
   "outputs": [
    {
     "ename": "",
     "evalue": "",
     "output_type": "error",
     "traceback": [
      "\u001b[1;31mRunning cells with 'c:\\Users\\Asus\\AppData\\Local\\Programs\\Python\\Python39-32\\python.exe' requires the ipykernel package.\n",
      "\u001b[1;31mRun the following command to install 'ipykernel' into the Python environment. \n",
      "\u001b[1;31mCommand: 'c:/Users/Asus/AppData/Local/Programs/Python/Python39-32/python.exe -m pip install ipykernel -U --user --force-reinstall'"
     ]
    }
   ],
   "source": [
    "temperatures = np.arange(0,1000,5)\n",
    "R = 8.314\n",
    "nat = len(prim_struc)\n",
    "ph_cv = np.array([ph_dos.cv(temperatures[i]) for i in range(len(temperatures))])/(3*nat*R)"
   ]
  },
  {
   "cell_type": "code",
   "execution_count": null,
   "id": "023dcb41",
   "metadata": {},
   "outputs": [
    {
     "ename": "",
     "evalue": "",
     "output_type": "error",
     "traceback": [
      "\u001b[1;31mRunning cells with 'c:\\Users\\Asus\\AppData\\Local\\Programs\\Python\\Python39-32\\python.exe' requires the ipykernel package.\n",
      "\u001b[1;31mRun the following command to install 'ipykernel' into the Python environment. \n",
      "\u001b[1;31mCommand: 'c:/Users/Asus/AppData/Local/Programs/Python/Python39-32/python.exe -m pip install ipykernel -U --user --force-reinstall'"
     ]
    }
   ],
   "source": [
    "fig = go.Figure()\n",
    "scatter = go.Scatter(x=temperatures, y=ph_cv)\n",
    "fig.add_trace(scatter)\n",
    "fig.add_hline(y=1, line_width=2, line_color=\"red\")\n",
    "fig.update_layout(\n",
    "    xaxis =  {'mirror': True, 'showgrid': False, 'ticks': 'inside', 'ticklen':10},\n",
    "    yaxis =  {'mirror': True, 'showgrid': False, 'ticks': 'inside', 'ticklen':10},\n",
    "    xaxis_title = \"Temperature\",\n",
    "    yaxis_title = \"$C_v\\,/\\,3N_{\\!at}R$\",        \n",
    ")\n",
    "fig.show()"
   ]
  },
  {
   "cell_type": "code",
   "execution_count": null,
   "id": "20e034ec",
   "metadata": {},
   "outputs": [
    {
     "ename": "",
     "evalue": "",
     "output_type": "error",
     "traceback": [
      "\u001b[1;31mRunning cells with 'c:\\Users\\Asus\\AppData\\Local\\Programs\\Python\\Python39-32\\python.exe' requires the ipykernel package.\n",
      "\u001b[1;31mRun the following command to install 'ipykernel' into the Python environment. \n",
      "\u001b[1;31mCommand: 'c:/Users/Asus/AppData/Local/Programs/Python/Python39-32/python.exe -m pip install ipykernel -U --user --force-reinstall'"
     ]
    }
   ],
   "source": []
  },
  {
   "cell_type": "code",
   "execution_count": null,
   "id": "a1a29122",
   "metadata": {
    "scrolled": false
   },
   "outputs": [
    {
     "ename": "",
     "evalue": "",
     "output_type": "error",
     "traceback": [
      "\u001b[1;31mRunning cells with 'c:\\Users\\Asus\\AppData\\Local\\Programs\\Python\\Python39-32\\python.exe' requires the ipykernel package.\n",
      "\u001b[1;31mRun the following command to install 'ipykernel' into the Python environment. \n",
      "\u001b[1;31mCommand: 'c:/Users/Asus/AppData/Local/Programs/Python/Python39-32/python.exe -m pip install ipykernel -U --user --force-reinstall'"
     ]
    }
   ],
   "source": []
  },
  {
   "cell_type": "code",
   "execution_count": null,
   "id": "fe01bc60",
   "metadata": {},
   "outputs": [
    {
     "ename": "",
     "evalue": "",
     "output_type": "error",
     "traceback": [
      "\u001b[1;31mRunning cells with 'c:\\Users\\Asus\\AppData\\Local\\Programs\\Python\\Python39-32\\python.exe' requires the ipykernel package.\n",
      "\u001b[1;31mRun the following command to install 'ipykernel' into the Python environment. \n",
      "\u001b[1;31mCommand: 'c:/Users/Asus/AppData/Local/Programs/Python/Python39-32/python.exe -m pip install ipykernel -U --user --force-reinstall'"
     ]
    }
   ],
   "source": []
  }
 ],
 "metadata": {
  "kernelspec": {
   "display_name": "Python 3 (ipykernel)",
   "language": "python",
   "name": "python3"
  },
  "language_info": {
   "codemirror_mode": {
    "name": "ipython",
    "version": 3
   },
   "file_extension": ".py",
   "mimetype": "text/x-python",
   "name": "python",
   "nbconvert_exporter": "python",
   "pygments_lexer": "ipython3",
   "version": "3.9.5"
  }
 },
 "nbformat": 4,
 "nbformat_minor": 5
}
